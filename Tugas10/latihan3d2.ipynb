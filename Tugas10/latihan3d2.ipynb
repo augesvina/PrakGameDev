{
 "cells": [
  {
   "cell_type": "code",
   "execution_count": 1,
   "id": "3fdb38fb",
   "metadata": {},
   "outputs": [
    {
     "ename": "SystemExit",
     "evalue": "",
     "output_type": "error",
     "traceback": [
      "An exception has occurred, use %tb to see the full traceback.\n",
      "\u001b[1;31mSystemExit\u001b[0m\n"
     ]
    },
    {
     "name": "stderr",
     "output_type": "stream",
     "text": [
      "C:\\Users\\user\\anaconda3\\lib\\site-packages\\IPython\\core\\interactiveshell.py:3445: UserWarning: To exit: use 'exit', 'quit', or Ctrl-D.\n",
      "  warn(\"To exit: use 'exit', 'quit', or Ctrl-D.\", stacklevel=1)\n"
     ]
    }
   ],
   "source": [
    "from math import pi, sin, cos #untuk menghitung pergerakan kamera\n",
    "\n",
    "from direct.showbase.ShowBase import ShowBase #untuk mengambil dan menampilkan image\n",
    "from direct.task import Task #untuk manajemen fungsi\n",
    "from direct.actor.Actor import Actor #meload kelas aktor yang digunakan.\n",
    "from direct.interval.IntervalGlobal import Sequence #memanipulasi durasi movement \n",
    "from panda3d.core import Point3 #untuk mengatur koordinat aktor\n",
    "\n",
    "\n",
    "class MyApp(ShowBase):\n",
    "    def __init__(self):\n",
    "        ShowBase.__init__(self)\n",
    "\n",
    "        # Nonaktifkan kontrol trackball kamera.\n",
    "        self.disableMouse()\n",
    "\n",
    "        # memuat environment model.\n",
    "        self.scene = self.loader.loadModel(\"models/environment\")\n",
    "        # Atur ulang model yang akan dirender.\n",
    "        self.scene.reparentTo(self.render)\n",
    "        # Terapkan transformasi scale dan posisi pada model.\n",
    "        self.scene.setScale(0.25, 0.25, 0.25)\n",
    "        self.scene.setPos(-8, 42, 0)\n",
    "\n",
    "        # Tambahkan prosedur spinCameraTask ke pengelola tugas.\n",
    "        self.taskMgr.add(self.spinCameraTask, \"SpinCameraTask\")\n",
    "\n",
    "        # Load dan ubah aktor panda.\n",
    "        self.pandaActor = Actor(\"models/panda-model\",\n",
    "                                {\"walk\": \"models/panda-walk4\"})\n",
    "        self.pandaActor.setScale(0.005, 0.005, 0.005)\n",
    "        self.pandaActor.reparentTo(self.render)\n",
    "        # Loop animasinya.\n",
    "        self.pandaActor.loop(\"walk\")\n",
    "\n",
    "        # Buat empat interval lerp yang dibutuhkan panda untuk\n",
    "        # berjalan bolak-balik.\n",
    "        posInterval1 = self.pandaActor.posInterval(13,\n",
    "                                                   Point3(0, -10, 0),\n",
    "                                                   startPos=Point3(0, 10, 0))\n",
    "        posInterval2 = self.pandaActor.posInterval(13,\n",
    "                                                   Point3(0, 10, 0),\n",
    "                                                   startPos=Point3(0, -10, 0))\n",
    "        hprInterval1 = self.pandaActor.hprInterval(3,\n",
    "                                                   Point3(180, 0, 0),\n",
    "                                                   startHpr=Point3(0, 0, 0))\n",
    "        hprInterval2 = self.pandaActor.hprInterval(3,\n",
    "                                                   Point3(0, 0, 0),\n",
    "                                                   startHpr=Point3(180, 0, 0))\n",
    "\n",
    "        # Buat dan mainkan urutan yang mengoordinasikan interval.\n",
    "        self.pandaPace = Sequence(posInterval1, hprInterval1,\n",
    "                                  posInterval2, hprInterval2,\n",
    "                                  name=\"pandaPace\")\n",
    "        self.pandaPace.loop()\n",
    "\n",
    "    # Tentukan prosedur untuk menggerakkan kamera.\n",
    "    def spinCameraTask(self, task):\n",
    "        angleDegrees = task.time * 6.0\n",
    "        angleRadians = angleDegrees * (pi / 180.0)\n",
    "        self.camera.setPos(20 * sin(angleRadians), -20 * cos(angleRadians), 3)\n",
    "        self.camera.setHpr(angleDegrees, 0, 0)\n",
    "        return Task.cont\n",
    "\n",
    "#inisialisasi Function MyApp() ke variabel app\n",
    "app = MyApp()\n",
    "mySound = app.loader.loadSfx(\"haegeum.ogg\") #mengambil audio dengan format ogg\n",
    "#musik diputar\n",
    "mySound.play()\n",
    "#untuk mengulang musik\n",
    "mySound.setLoop(True)\n",
    "#mengatur volume\n",
    "mySound.setVolume(10)\n",
    "#untuk menjalankan aplikasi\n",
    "app.run()"
   ]
  },
  {
   "cell_type": "code",
   "execution_count": null,
   "id": "106c8d43",
   "metadata": {},
   "outputs": [],
   "source": []
  }
 ],
 "metadata": {
  "kernelspec": {
   "display_name": "Python 3",
   "language": "python",
   "name": "python3"
  },
  "language_info": {
   "codemirror_mode": {
    "name": "ipython",
    "version": 3
   },
   "file_extension": ".py",
   "mimetype": "text/x-python",
   "name": "python",
   "nbconvert_exporter": "python",
   "pygments_lexer": "ipython3",
   "version": "3.8.8"
  }
 },
 "nbformat": 4,
 "nbformat_minor": 5
}
